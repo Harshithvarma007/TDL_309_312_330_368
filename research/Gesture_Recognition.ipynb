{
 "cells": [
  {
   "cell_type": "markdown",
   "metadata": {},
   "source": [
    "# Import Libraries"
   ]
  },
  {
   "cell_type": "code",
   "execution_count": 29,
   "metadata": {},
   "outputs": [],
   "source": [
    "import pandas as pd\n",
    "from sklearn.model_selection import train_test_split\n",
    "from sklearn.preprocessing import StandardScaler\n",
    "from tensorflow.keras.models import Sequential\n",
    "from tensorflow.keras.layers import Dense, Dropout\n",
    "from sklearn.model_selection import StratifiedKFold\n",
    "import numpy as np"
   ]
  },
  {
   "cell_type": "code",
   "execution_count": 17,
   "metadata": {},
   "outputs": [
    {
     "data": {
      "text/plain": [
       "'c:\\\\Users\\\\N Ramaraju\\\\Desktop\\\\Github Actions A4\\\\TDL_309_312_330_368'"
      ]
     },
     "execution_count": 17,
     "metadata": {},
     "output_type": "execute_result"
    }
   ],
   "source": [
    "%pwd"
   ]
  },
  {
   "cell_type": "code",
   "execution_count": 16,
   "metadata": {},
   "outputs": [],
   "source": [
    "import os\n",
    "os.chdir('../')"
   ]
  },
  {
   "cell_type": "markdown",
   "metadata": {},
   "source": [
    "# Load Data"
   ]
  },
  {
   "cell_type": "code",
   "execution_count": 18,
   "metadata": {},
   "outputs": [],
   "source": [
    "sl=pd.read_csv('Data\\Sign_Landmarks.csv')"
   ]
  },
  {
   "cell_type": "code",
   "execution_count": 19,
   "metadata": {},
   "outputs": [
    {
     "data": {
      "text/html": [
       "<div>\n",
       "<style scoped>\n",
       "    .dataframe tbody tr th:only-of-type {\n",
       "        vertical-align: middle;\n",
       "    }\n",
       "\n",
       "    .dataframe tbody tr th {\n",
       "        vertical-align: top;\n",
       "    }\n",
       "\n",
       "    .dataframe thead th {\n",
       "        text-align: right;\n",
       "    }\n",
       "</style>\n",
       "<table border=\"1\" class=\"dataframe\">\n",
       "  <thead>\n",
       "    <tr style=\"text-align: right;\">\n",
       "      <th></th>\n",
       "      <th>WRIST_x</th>\n",
       "      <th>WRIST_y</th>\n",
       "      <th>WRIST_z</th>\n",
       "      <th>THUMB_CMC_x</th>\n",
       "      <th>THUMB_CMC_y</th>\n",
       "      <th>THUMB_CMC_z</th>\n",
       "      <th>THUMB_MCP_x</th>\n",
       "      <th>THUMB_MCP_y</th>\n",
       "      <th>THUMB_MCP_z</th>\n",
       "      <th>THUMB_IP_x</th>\n",
       "      <th>...</th>\n",
       "      <th>PINKY_PIP_x</th>\n",
       "      <th>PINKY_PIP_y</th>\n",
       "      <th>PINKY_PIP_z</th>\n",
       "      <th>PINKY_DIP_x</th>\n",
       "      <th>PINKY_DIP_y</th>\n",
       "      <th>PINKY_DIP_z</th>\n",
       "      <th>PINKY_TIP_x</th>\n",
       "      <th>PINKY_TIP_y</th>\n",
       "      <th>PINKY_TIP_z</th>\n",
       "      <th>Sign</th>\n",
       "    </tr>\n",
       "  </thead>\n",
       "  <tbody>\n",
       "    <tr>\n",
       "      <th>0</th>\n",
       "      <td>0.766012</td>\n",
       "      <td>0.873854</td>\n",
       "      <td>-4.338019e-07</td>\n",
       "      <td>0.736904</td>\n",
       "      <td>0.884795</td>\n",
       "      <td>-0.018465</td>\n",
       "      <td>0.716271</td>\n",
       "      <td>0.900375</td>\n",
       "      <td>-0.037837</td>\n",
       "      <td>0.708319</td>\n",
       "      <td>...</td>\n",
       "      <td>0.814776</td>\n",
       "      <td>0.965552</td>\n",
       "      <td>-0.061597</td>\n",
       "      <td>0.809578</td>\n",
       "      <td>1.006009</td>\n",
       "      <td>-0.055040</td>\n",
       "      <td>0.807017</td>\n",
       "      <td>1.027866</td>\n",
       "      <td>-0.047752</td>\n",
       "      <td>Hold</td>\n",
       "    </tr>\n",
       "    <tr>\n",
       "      <th>1</th>\n",
       "      <td>0.785290</td>\n",
       "      <td>0.990514</td>\n",
       "      <td>-8.602647e-08</td>\n",
       "      <td>0.751693</td>\n",
       "      <td>0.964742</td>\n",
       "      <td>-0.012572</td>\n",
       "      <td>0.727665</td>\n",
       "      <td>0.900223</td>\n",
       "      <td>-0.018118</td>\n",
       "      <td>0.723112</td>\n",
       "      <td>...</td>\n",
       "      <td>0.809120</td>\n",
       "      <td>0.822410</td>\n",
       "      <td>-0.011135</td>\n",
       "      <td>0.803252</td>\n",
       "      <td>0.853081</td>\n",
       "      <td>-0.006864</td>\n",
       "      <td>0.805157</td>\n",
       "      <td>0.873900</td>\n",
       "      <td>-0.001151</td>\n",
       "      <td>Hold</td>\n",
       "    </tr>\n",
       "    <tr>\n",
       "      <th>2</th>\n",
       "      <td>0.820003</td>\n",
       "      <td>0.947995</td>\n",
       "      <td>2.556551e-07</td>\n",
       "      <td>0.777134</td>\n",
       "      <td>0.896625</td>\n",
       "      <td>-0.003851</td>\n",
       "      <td>0.746595</td>\n",
       "      <td>0.833183</td>\n",
       "      <td>-0.002268</td>\n",
       "      <td>0.736525</td>\n",
       "      <td>...</td>\n",
       "      <td>0.813284</td>\n",
       "      <td>0.787092</td>\n",
       "      <td>0.012318</td>\n",
       "      <td>0.814730</td>\n",
       "      <td>0.758706</td>\n",
       "      <td>0.012713</td>\n",
       "      <td>0.816210</td>\n",
       "      <td>0.737457</td>\n",
       "      <td>0.012720</td>\n",
       "      <td>Hold</td>\n",
       "    </tr>\n",
       "    <tr>\n",
       "      <th>3</th>\n",
       "      <td>0.850820</td>\n",
       "      <td>0.758373</td>\n",
       "      <td>-4.624325e-07</td>\n",
       "      <td>0.804984</td>\n",
       "      <td>0.705809</td>\n",
       "      <td>-0.008337</td>\n",
       "      <td>0.769343</td>\n",
       "      <td>0.637800</td>\n",
       "      <td>-0.010851</td>\n",
       "      <td>0.757684</td>\n",
       "      <td>...</td>\n",
       "      <td>0.895379</td>\n",
       "      <td>0.551908</td>\n",
       "      <td>-0.022550</td>\n",
       "      <td>0.887219</td>\n",
       "      <td>0.602183</td>\n",
       "      <td>-0.009778</td>\n",
       "      <td>0.889610</td>\n",
       "      <td>0.622488</td>\n",
       "      <td>0.003311</td>\n",
       "      <td>Hold</td>\n",
       "    </tr>\n",
       "    <tr>\n",
       "      <th>4</th>\n",
       "      <td>0.857401</td>\n",
       "      <td>0.714917</td>\n",
       "      <td>-3.103732e-07</td>\n",
       "      <td>0.806803</td>\n",
       "      <td>0.650087</td>\n",
       "      <td>-0.007304</td>\n",
       "      <td>0.768895</td>\n",
       "      <td>0.578152</td>\n",
       "      <td>-0.007613</td>\n",
       "      <td>0.759919</td>\n",
       "      <td>...</td>\n",
       "      <td>0.894228</td>\n",
       "      <td>0.486282</td>\n",
       "      <td>-0.012193</td>\n",
       "      <td>0.886309</td>\n",
       "      <td>0.530941</td>\n",
       "      <td>-0.001373</td>\n",
       "      <td>0.890523</td>\n",
       "      <td>0.547568</td>\n",
       "      <td>0.010337</td>\n",
       "      <td>Hold</td>\n",
       "    </tr>\n",
       "    <tr>\n",
       "      <th>...</th>\n",
       "      <td>...</td>\n",
       "      <td>...</td>\n",
       "      <td>...</td>\n",
       "      <td>...</td>\n",
       "      <td>...</td>\n",
       "      <td>...</td>\n",
       "      <td>...</td>\n",
       "      <td>...</td>\n",
       "      <td>...</td>\n",
       "      <td>...</td>\n",
       "      <td>...</td>\n",
       "      <td>...</td>\n",
       "      <td>...</td>\n",
       "      <td>...</td>\n",
       "      <td>...</td>\n",
       "      <td>...</td>\n",
       "      <td>...</td>\n",
       "      <td>...</td>\n",
       "      <td>...</td>\n",
       "      <td>...</td>\n",
       "      <td>...</td>\n",
       "    </tr>\n",
       "    <tr>\n",
       "      <th>23581</th>\n",
       "      <td>0.768226</td>\n",
       "      <td>0.679517</td>\n",
       "      <td>3.558573e-07</td>\n",
       "      <td>0.722036</td>\n",
       "      <td>0.646371</td>\n",
       "      <td>-0.020364</td>\n",
       "      <td>0.684503</td>\n",
       "      <td>0.586104</td>\n",
       "      <td>-0.031518</td>\n",
       "      <td>0.661408</td>\n",
       "      <td>...</td>\n",
       "      <td>0.831375</td>\n",
       "      <td>0.443078</td>\n",
       "      <td>-0.049388</td>\n",
       "      <td>0.844255</td>\n",
       "      <td>0.399633</td>\n",
       "      <td>-0.057141</td>\n",
       "      <td>0.854084</td>\n",
       "      <td>0.356955</td>\n",
       "      <td>-0.062460</td>\n",
       "      <td>Shoot</td>\n",
       "    </tr>\n",
       "    <tr>\n",
       "      <th>23582</th>\n",
       "      <td>0.767102</td>\n",
       "      <td>0.668193</td>\n",
       "      <td>3.621006e-07</td>\n",
       "      <td>0.720522</td>\n",
       "      <td>0.634883</td>\n",
       "      <td>-0.020659</td>\n",
       "      <td>0.682523</td>\n",
       "      <td>0.576149</td>\n",
       "      <td>-0.032181</td>\n",
       "      <td>0.658945</td>\n",
       "      <td>...</td>\n",
       "      <td>0.829164</td>\n",
       "      <td>0.430915</td>\n",
       "      <td>-0.049500</td>\n",
       "      <td>0.841736</td>\n",
       "      <td>0.387368</td>\n",
       "      <td>-0.057195</td>\n",
       "      <td>0.851379</td>\n",
       "      <td>0.344514</td>\n",
       "      <td>-0.062452</td>\n",
       "      <td>Shoot</td>\n",
       "    </tr>\n",
       "    <tr>\n",
       "      <th>23583</th>\n",
       "      <td>0.765782</td>\n",
       "      <td>0.656406</td>\n",
       "      <td>3.639359e-07</td>\n",
       "      <td>0.718861</td>\n",
       "      <td>0.623337</td>\n",
       "      <td>-0.020640</td>\n",
       "      <td>0.681003</td>\n",
       "      <td>0.563533</td>\n",
       "      <td>-0.031916</td>\n",
       "      <td>0.657710</td>\n",
       "      <td>...</td>\n",
       "      <td>0.828041</td>\n",
       "      <td>0.418365</td>\n",
       "      <td>-0.049078</td>\n",
       "      <td>0.840318</td>\n",
       "      <td>0.374409</td>\n",
       "      <td>-0.056703</td>\n",
       "      <td>0.849725</td>\n",
       "      <td>0.331459</td>\n",
       "      <td>-0.061891</td>\n",
       "      <td>Shoot</td>\n",
       "    </tr>\n",
       "    <tr>\n",
       "      <th>23584</th>\n",
       "      <td>0.764166</td>\n",
       "      <td>0.643843</td>\n",
       "      <td>3.645821e-07</td>\n",
       "      <td>0.717262</td>\n",
       "      <td>0.611898</td>\n",
       "      <td>-0.020950</td>\n",
       "      <td>0.679207</td>\n",
       "      <td>0.552600</td>\n",
       "      <td>-0.032399</td>\n",
       "      <td>0.655755</td>\n",
       "      <td>...</td>\n",
       "      <td>0.825928</td>\n",
       "      <td>0.405714</td>\n",
       "      <td>-0.049662</td>\n",
       "      <td>0.838404</td>\n",
       "      <td>0.361498</td>\n",
       "      <td>-0.057574</td>\n",
       "      <td>0.847976</td>\n",
       "      <td>0.318163</td>\n",
       "      <td>-0.062959</td>\n",
       "      <td>Shoot</td>\n",
       "    </tr>\n",
       "    <tr>\n",
       "      <th>23585</th>\n",
       "      <td>0.762576</td>\n",
       "      <td>0.633662</td>\n",
       "      <td>3.629529e-07</td>\n",
       "      <td>0.714718</td>\n",
       "      <td>0.600744</td>\n",
       "      <td>-0.020625</td>\n",
       "      <td>0.676926</td>\n",
       "      <td>0.542461</td>\n",
       "      <td>-0.031867</td>\n",
       "      <td>0.653512</td>\n",
       "      <td>...</td>\n",
       "      <td>0.824489</td>\n",
       "      <td>0.394658</td>\n",
       "      <td>-0.048859</td>\n",
       "      <td>0.836899</td>\n",
       "      <td>0.350554</td>\n",
       "      <td>-0.056787</td>\n",
       "      <td>0.846311</td>\n",
       "      <td>0.307299</td>\n",
       "      <td>-0.062222</td>\n",
       "      <td>Shoot</td>\n",
       "    </tr>\n",
       "  </tbody>\n",
       "</table>\n",
       "<p>23586 rows × 64 columns</p>\n",
       "</div>"
      ],
      "text/plain": [
       "        WRIST_x   WRIST_y       WRIST_z  THUMB_CMC_x  THUMB_CMC_y  \\\n",
       "0      0.766012  0.873854 -4.338019e-07     0.736904     0.884795   \n",
       "1      0.785290  0.990514 -8.602647e-08     0.751693     0.964742   \n",
       "2      0.820003  0.947995  2.556551e-07     0.777134     0.896625   \n",
       "3      0.850820  0.758373 -4.624325e-07     0.804984     0.705809   \n",
       "4      0.857401  0.714917 -3.103732e-07     0.806803     0.650087   \n",
       "...         ...       ...           ...          ...          ...   \n",
       "23581  0.768226  0.679517  3.558573e-07     0.722036     0.646371   \n",
       "23582  0.767102  0.668193  3.621006e-07     0.720522     0.634883   \n",
       "23583  0.765782  0.656406  3.639359e-07     0.718861     0.623337   \n",
       "23584  0.764166  0.643843  3.645821e-07     0.717262     0.611898   \n",
       "23585  0.762576  0.633662  3.629529e-07     0.714718     0.600744   \n",
       "\n",
       "       THUMB_CMC_z  THUMB_MCP_x  THUMB_MCP_y  THUMB_MCP_z  THUMB_IP_x  ...  \\\n",
       "0        -0.018465     0.716271     0.900375    -0.037837    0.708319  ...   \n",
       "1        -0.012572     0.727665     0.900223    -0.018118    0.723112  ...   \n",
       "2        -0.003851     0.746595     0.833183    -0.002268    0.736525  ...   \n",
       "3        -0.008337     0.769343     0.637800    -0.010851    0.757684  ...   \n",
       "4        -0.007304     0.768895     0.578152    -0.007613    0.759919  ...   \n",
       "...            ...          ...          ...          ...         ...  ...   \n",
       "23581    -0.020364     0.684503     0.586104    -0.031518    0.661408  ...   \n",
       "23582    -0.020659     0.682523     0.576149    -0.032181    0.658945  ...   \n",
       "23583    -0.020640     0.681003     0.563533    -0.031916    0.657710  ...   \n",
       "23584    -0.020950     0.679207     0.552600    -0.032399    0.655755  ...   \n",
       "23585    -0.020625     0.676926     0.542461    -0.031867    0.653512  ...   \n",
       "\n",
       "       PINKY_PIP_x  PINKY_PIP_y  PINKY_PIP_z  PINKY_DIP_x  PINKY_DIP_y  \\\n",
       "0         0.814776     0.965552    -0.061597     0.809578     1.006009   \n",
       "1         0.809120     0.822410    -0.011135     0.803252     0.853081   \n",
       "2         0.813284     0.787092     0.012318     0.814730     0.758706   \n",
       "3         0.895379     0.551908    -0.022550     0.887219     0.602183   \n",
       "4         0.894228     0.486282    -0.012193     0.886309     0.530941   \n",
       "...            ...          ...          ...          ...          ...   \n",
       "23581     0.831375     0.443078    -0.049388     0.844255     0.399633   \n",
       "23582     0.829164     0.430915    -0.049500     0.841736     0.387368   \n",
       "23583     0.828041     0.418365    -0.049078     0.840318     0.374409   \n",
       "23584     0.825928     0.405714    -0.049662     0.838404     0.361498   \n",
       "23585     0.824489     0.394658    -0.048859     0.836899     0.350554   \n",
       "\n",
       "       PINKY_DIP_z  PINKY_TIP_x  PINKY_TIP_y  PINKY_TIP_z   Sign  \n",
       "0        -0.055040     0.807017     1.027866    -0.047752   Hold  \n",
       "1        -0.006864     0.805157     0.873900    -0.001151   Hold  \n",
       "2         0.012713     0.816210     0.737457     0.012720   Hold  \n",
       "3        -0.009778     0.889610     0.622488     0.003311   Hold  \n",
       "4        -0.001373     0.890523     0.547568     0.010337   Hold  \n",
       "...            ...          ...          ...          ...    ...  \n",
       "23581    -0.057141     0.854084     0.356955    -0.062460  Shoot  \n",
       "23582    -0.057195     0.851379     0.344514    -0.062452  Shoot  \n",
       "23583    -0.056703     0.849725     0.331459    -0.061891  Shoot  \n",
       "23584    -0.057574     0.847976     0.318163    -0.062959  Shoot  \n",
       "23585    -0.056787     0.846311     0.307299    -0.062222  Shoot  \n",
       "\n",
       "[23586 rows x 64 columns]"
      ]
     },
     "execution_count": 19,
     "metadata": {},
     "output_type": "execute_result"
    }
   ],
   "source": [
    "sl"
   ]
  },
  {
   "cell_type": "markdown",
   "metadata": {},
   "source": [
    "\n",
    "# Encode 'Sign' column"
   ]
  },
  {
   "cell_type": "code",
   "execution_count": 20,
   "metadata": {},
   "outputs": [],
   "source": [
    "\n",
    "df=sl\n",
    "\n",
    "\n",
    "df['Sign'] = df['Sign'].replace({'Shoot': 1, 'Hold': 0})\n",
    "\n",
    "\n"
   ]
  },
  {
   "cell_type": "markdown",
   "metadata": {},
   "source": [
    "# Split the data into input features (X) and target labels (y)\n"
   ]
  },
  {
   "cell_type": "code",
   "execution_count": 21,
   "metadata": {},
   "outputs": [],
   "source": [
    "X = df.drop(columns=['Sign'])  # Features\n",
    "y = df['Sign']  # Target labels"
   ]
  },
  {
   "cell_type": "markdown",
   "metadata": {},
   "source": [
    "# Standardize input features"
   ]
  },
  {
   "cell_type": "code",
   "execution_count": 22,
   "metadata": {},
   "outputs": [],
   "source": [
    "scaler = StandardScaler()\n",
    "X_scaled = scaler.fit_transform(X)"
   ]
  },
  {
   "cell_type": "markdown",
   "metadata": {},
   "source": [
    "#  Deep neural network model"
   ]
  },
  {
   "cell_type": "code",
   "execution_count": 23,
   "metadata": {},
   "outputs": [],
   "source": [
    "model = Sequential()\n",
    "model.add(Dense(64, input_shape=(len(X.columns),), activation='relu'))\n",
    "model.add(Dropout(0.5))\n",
    "model.add(Dense(32, activation='relu'))\n",
    "model.add(Dropout(0.5))\n",
    "model.add(Dense(1, activation='sigmoid')) "
   ]
  },
  {
   "cell_type": "markdown",
   "metadata": {},
   "source": [
    "# Compile the model"
   ]
  },
  {
   "cell_type": "code",
   "execution_count": 24,
   "metadata": {},
   "outputs": [],
   "source": [
    "model.compile(optimizer='adam', loss='binary_crossentropy', metrics=['accuracy'])"
   ]
  },
  {
   "cell_type": "markdown",
   "metadata": {},
   "source": [
    "# Train the model"
   ]
  },
  {
   "cell_type": "code",
   "execution_count": 25,
   "metadata": {},
   "outputs": [
    {
     "name": "stdout",
     "output_type": "stream",
     "text": [
      "Epoch 1/10\n",
      "738/738 [==============================] - 4s 3ms/step - loss: 0.0656 - accuracy: 0.9763\n",
      "Epoch 2/10\n",
      "738/738 [==============================] - 3s 4ms/step - loss: 0.0012 - accuracy: 1.0000\n",
      "Epoch 3/10\n",
      "738/738 [==============================] - 3s 3ms/step - loss: 4.8114e-04 - accuracy: 1.0000\n",
      "Epoch 4/10\n",
      "738/738 [==============================] - 3s 4ms/step - loss: 2.8746e-04 - accuracy: 1.0000\n",
      "Epoch 5/10\n",
      "738/738 [==============================] - 3s 4ms/step - loss: 1.6511e-04 - accuracy: 1.0000\n",
      "Epoch 6/10\n",
      "738/738 [==============================] - 3s 4ms/step - loss: 1.6801e-04 - accuracy: 1.0000\n",
      "Epoch 7/10\n",
      "738/738 [==============================] - 2s 3ms/step - loss: 1.0774e-04 - accuracy: 1.0000\n",
      "Epoch 8/10\n",
      "738/738 [==============================] - 2s 3ms/step - loss: 7.7878e-04 - accuracy: 0.9998\n",
      "Epoch 9/10\n",
      "738/738 [==============================] - 2s 3ms/step - loss: 1.2705e-04 - accuracy: 1.0000\n",
      "Epoch 10/10\n",
      "738/738 [==============================] - 2s 3ms/step - loss: 1.1231e-04 - accuracy: 1.0000\n"
     ]
    },
    {
     "data": {
      "text/plain": [
       "<keras.src.callbacks.History at 0x2137d299e50>"
      ]
     },
     "execution_count": 25,
     "metadata": {},
     "output_type": "execute_result"
    }
   ],
   "source": [
    "model.fit(X_scaled, y, epochs=10)"
   ]
  },
  {
   "cell_type": "markdown",
   "metadata": {},
   "source": [
    "# k-fold cross-validation"
   ]
  },
  {
   "cell_type": "code",
   "execution_count": 30,
   "metadata": {},
   "outputs": [
    {
     "name": "stdout",
     "output_type": "stream",
     "text": [
      "148/148 [==============================] - 1s 5ms/step - loss: 1.0963e-18 - accuracy: 1.0000\n"
     ]
    }
   ],
   "source": [
    "\n",
    "# Define k-fold cross-validation\n",
    "kfold = StratifiedKFold(n_splits=5, shuffle=True, random_state=42)\n",
    "# Initialize lists to store evaluation results\n",
    "losses = []\n",
    "accuracies = []\n",
    "\n",
    "# Iterate over each fold\n",
    "for train_idx, val_idx in kfold.split(X_scaled, y):\n",
    "    X_train, X_val = X_scaled[train_idx], X_scaled[val_idx]\n",
    "    y_train, y_val = y.iloc[train_idx], y.iloc[val_idx]\n",
    "\n",
    "    # Define the deep neural network model\n",
    "    model = Sequential()\n",
    "    model.add(Dense(64, input_shape=(len(X.columns),), activation='relu'))\n",
    "    model.add(Dropout(0.5))\n",
    "    model.add(Dense(32, activation='relu'))\n",
    "    model.add(Dropout(0.5))\n",
    "    model.add(Dense(1, activation='sigmoid'))  # Binary classification (assuming 'Sign' is binary)\n",
    "\n",
    "    # Compile the model\n",
    "    model.compile(optimizer='adam', loss='binary_crossentropy', metrics=['accuracy'])\n",
    "\n",
    "    # Train the model\n",
    "    model.fit(X_train, y_train, epochs=50, batch_size=32, verbose=0)\n",
    "\n",
    "    # Evaluate the model on validation data\n",
    "    loss, accuracy = model.evaluate(X_val, y_val)\n",
    "    losses.append(loss)\n",
    "    accuracies.append(accuracy)\n",
    "\n",
    "# Calculate average metrics across all folds\n",
    "avg_loss = np.mean(losses)\n",
    "avg_accuracy = np.mean(accuracies)\n",
    "\n",
    "print(f'Average Loss: {avg_loss}')\n",
    "print(f'Average Accuracy: {avg_accuracy}')"
   ]
  },
  {
   "cell_type": "markdown",
   "metadata": {},
   "source": [
    "# Assuming your model is named 'model'\n"
   ]
  },
  {
   "cell_type": "code",
   "execution_count": null,
   "metadata": {},
   "outputs": [],
   "source": [
    "# model.save('research\\gesture_recognition.h5')"
   ]
  }
 ],
 "metadata": {
  "kernelspec": {
   "display_name": "Python 3",
   "language": "python",
   "name": "python3"
  },
  "language_info": {
   "codemirror_mode": {
    "name": "ipython",
    "version": 3
   },
   "file_extension": ".py",
   "mimetype": "text/x-python",
   "name": "python",
   "nbconvert_exporter": "python",
   "pygments_lexer": "ipython3",
   "version": "3.11.4"
  }
 },
 "nbformat": 4,
 "nbformat_minor": 2
}
